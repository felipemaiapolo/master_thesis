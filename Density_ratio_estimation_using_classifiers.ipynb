{
  "nbformat": 4,
  "nbformat_minor": 0,
  "metadata": {
    "kernelspec": {
      "display_name": "R",
      "language": "R",
      "name": "ir"
    },
    "language_info": {
      "codemirror_mode": "r",
      "file_extension": ".r",
      "mimetype": "text/x-r-source",
      "name": "R",
      "pygments_lexer": "r",
      "version": "3.5.1"
    },
    "colab": {
      "name": "Density-ratio estimation using classifiers.ipynb",
      "provenance": [],
      "include_colab_link": true
    }
  },
  "cells": [
    {
      "cell_type": "markdown",
      "metadata": {
        "id": "view-in-github",
        "colab_type": "text"
      },
      "source": [
        "<a href=\"https://colab.research.google.com/github/felipemaiapolo/master_thesis/blob/master/Density_ratio_estimation_using_classifiers.ipynb\" target=\"_parent\"><img src=\"https://colab.research.google.com/assets/colab-badge.svg\" alt=\"Open In Colab\"/></a>"
      ]
    },
    {
      "cell_type": "code",
      "metadata": {
        "id": "KYbIU_udO5hV",
        "colab_type": "code",
        "colab": {}
      },
      "source": [
        "base<-read.table(\"analise_clusters_v2.csv\", sep=\";\", header=T, encoding = \"UTF-8\")"
      ],
      "execution_count": 0,
      "outputs": []
    },
    {
      "cell_type": "code",
      "metadata": {
        "id": "IKOdn7ThO5he",
        "colab_type": "code",
        "colab": {},
        "outputId": "d8567c4f-68db-4254-952d-ee879d2280f5"
      },
      "source": [
        "base[4:9,]"
      ],
      "execution_count": 0,
      "outputs": [
        {
          "output_type": "display_data",
          "data": {
            "text/html": [
              "<table>\n",
              "<thead><tr><th></th><th scope=col>id_lepes</th><th scope=col>O_p_ano</th><th scope=col>C_p_ano</th><th scope=col>E_p_ano</th><th scope=col>A_p_ano</th><th scope=col>N_p_ano</th><th scope=col>genero</th><th scope=col>brancos</th><th scope=col>tipo_escola</th><th scope=col>bf</th><th scope=col>⋯</th><th scope=col>q35</th><th scope=col>q36</th><th scope=col>q37</th><th scope=col>q38</th><th scope=col>q39</th><th scope=col>q40</th><th scope=col>q41</th><th scope=col>q42</th><th scope=col>q43</th><th scope=col>q44</th></tr></thead>\n",
              "<tbody>\n",
              "\t<tr><th scope=row>4</th><td>4         </td><td>0.1078064 </td><td>-1.6895670</td><td>-0.2406949</td><td>-0.3358859</td><td>1.049038  </td><td>0         </td><td>NA        </td><td>1         </td><td> 1        </td><td>⋯         </td><td> 4        </td><td> 3        </td><td> 4        </td><td> 4        </td><td> 2        </td><td> 3        </td><td> 2        </td><td> 1        </td><td> 1        </td><td> 3        </td></tr>\n",
              "\t<tr><th scope=row>5</th><td>5         </td><td>0.4184995 </td><td>-0.0413650</td><td> 1.2306430</td><td> 0.4752485</td><td>0.433447  </td><td>0         </td><td> 0        </td><td>1         </td><td> 0        </td><td>⋯         </td><td> 3        </td><td> 1        </td><td> 5        </td><td> 1        </td><td> 3        </td><td> 4        </td><td> 2        </td><td> 2        </td><td> 1        </td><td> 4        </td></tr>\n",
              "\t<tr><th scope=row>6</th><td>5         </td><td>       NA </td><td>        NA</td><td>        NA</td><td>        NA</td><td>      NA  </td><td>0         </td><td> 0        </td><td>1         </td><td>NA        </td><td>⋯         </td><td>NA        </td><td>NA        </td><td>NA        </td><td>NA        </td><td>NA        </td><td>NA        </td><td>NA        </td><td>NA        </td><td>NA        </td><td>NA        </td></tr>\n",
              "\t<tr><th scope=row>7</th><td>7         </td><td>0.4626869 </td><td> 1.6712680</td><td>-0.3203712</td><td> 0.6795036</td><td>1.256023  </td><td>1         </td><td>NA        </td><td>1         </td><td> 0        </td><td>⋯         </td><td> 2        </td><td> 1        </td><td> 4        </td><td> 3        </td><td> 5        </td><td> 5        </td><td> 5        </td><td> 5        </td><td> 1        </td><td> 5        </td></tr>\n",
              "\t<tr><th scope=row>8</th><td>8         </td><td>1.1996710 </td><td> 1.4505940</td><td> 0.7209620</td><td> 0.4257135</td><td>1.854306  </td><td>1         </td><td> 0        </td><td>1         </td><td>NA        </td><td>⋯         </td><td> 5        </td><td> 1        </td><td> 1        </td><td> 1        </td><td> 5        </td><td> 1        </td><td> 5        </td><td> 4        </td><td> 1        </td><td> 3        </td></tr>\n",
              "\t<tr><th scope=row>9</th><td>8         </td><td>0.3485188 </td><td>-0.0131268</td><td>-0.2865033</td><td> 0.2369193</td><td>0.257794  </td><td>1         </td><td> 0        </td><td>1         </td><td>NA        </td><td>⋯         </td><td> 5        </td><td> 3        </td><td> 2        </td><td> 1        </td><td> 4        </td><td> 4        </td><td> 3        </td><td> 3        </td><td> 3        </td><td> 4        </td></tr>\n",
              "</tbody>\n",
              "</table>\n"
            ],
            "text/latex": "\\begin{tabular}{r|llllllllllllllllllllllllllllllllllllllllllllllllllllllllllllllllllllllllllllll}\n  & id\\_lepes & O\\_p\\_ano & C\\_p\\_ano & E\\_p\\_ano & A\\_p\\_ano & N\\_p\\_ano & genero & brancos & tipo\\_escola & bf & ⋯ & q35 & q36 & q37 & q38 & q39 & q40 & q41 & q42 & q43 & q44\\\\\n\\hline\n\t4 & 4          & 0.1078064  & -1.6895670 & -0.2406949 & -0.3358859 & 1.049038   & 0          & NA         & 1          &  1         & ⋯          &  4         &  3         &  4         &  4         &  2         &  3         &  2         &  1         &  1         &  3        \\\\\n\t5 & 5          & 0.4184995  & -0.0413650 &  1.2306430 &  0.4752485 & 0.433447   & 0          &  0         & 1          &  0         & ⋯          &  3         &  1         &  5         &  1         &  3         &  4         &  2         &  2         &  1         &  4        \\\\\n\t6 & 5          &        NA  &         NA &         NA &         NA &       NA   & 0          &  0         & 1          & NA         & ⋯          & NA         & NA         & NA         & NA         & NA         & NA         & NA         & NA         & NA         & NA        \\\\\n\t7 & 7          & 0.4626869  &  1.6712680 & -0.3203712 &  0.6795036 & 1.256023   & 1          & NA         & 1          &  0         & ⋯          &  2         &  1         &  4         &  3         &  5         &  5         &  5         &  5         &  1         &  5        \\\\\n\t8 & 8          & 1.1996710  &  1.4505940 &  0.7209620 &  0.4257135 & 1.854306   & 1          &  0         & 1          & NA         & ⋯          &  5         &  1         &  1         &  1         &  5         &  1         &  5         &  4         &  1         &  3        \\\\\n\t9 & 8          & 0.3485188  & -0.0131268 & -0.2865033 &  0.2369193 & 0.257794   & 1          &  0         & 1          & NA         & ⋯          &  5         &  3         &  2         &  1         &  4         &  4         &  3         &  3         &  3         &  4        \\\\\n\\end{tabular}\n",
            "text/markdown": "\n| <!--/--> | id_lepes | O_p_ano | C_p_ano | E_p_ano | A_p_ano | N_p_ano | genero | brancos | tipo_escola | bf | ⋯ | q35 | q36 | q37 | q38 | q39 | q40 | q41 | q42 | q43 | q44 | \n|---|---|---|---|---|---|\n| 4 | 4          | 0.1078064  | -1.6895670 | -0.2406949 | -0.3358859 | 1.049038   | 0          | NA         | 1          |  1         | ⋯          |  4         |  3         |  4         |  4         |  2         |  3         |  2         |  1         |  1         |  3         | \n| 5 | 5          | 0.4184995  | -0.0413650 |  1.2306430 |  0.4752485 | 0.433447   | 0          |  0         | 1          |  0         | ⋯          |  3         |  1         |  5         |  1         |  3         |  4         |  2         |  2         |  1         |  4         | \n| 6 | 5          |        NA  |         NA |         NA |         NA |       NA   | 0          |  0         | 1          | NA         | ⋯          | NA         | NA         | NA         | NA         | NA         | NA         | NA         | NA         | NA         | NA         | \n| 7 | 7          | 0.4626869  |  1.6712680 | -0.3203712 |  0.6795036 | 1.256023   | 1          | NA         | 1          |  0         | ⋯          |  2         |  1         |  4         |  3         |  5         |  5         |  5         |  5         |  1         |  5         | \n| 8 | 8          | 1.1996710  |  1.4505940 |  0.7209620 |  0.4257135 | 1.854306   | 1          |  0         | 1          | NA         | ⋯          |  5         |  1         |  1         |  1         |  5         |  1         |  5         |  4         |  1         |  3         | \n| 9 | 8          | 0.3485188  | -0.0131268 | -0.2865033 |  0.2369193 | 0.257794   | 1          |  0         | 1          | NA         | ⋯          |  5         |  3         |  2         |  1         |  4         |  4         |  3         |  3         |  3         |  4         | \n\n\n",
            "text/plain": [
              "  id_lepes O_p_ano   C_p_ano    E_p_ano    A_p_ano    N_p_ano  genero brancos\n",
              "4 4        0.1078064 -1.6895670 -0.2406949 -0.3358859 1.049038 0      NA     \n",
              "5 5        0.4184995 -0.0413650  1.2306430  0.4752485 0.433447 0       0     \n",
              "6 5               NA         NA         NA         NA       NA 0       0     \n",
              "7 7        0.4626869  1.6712680 -0.3203712  0.6795036 1.256023 1      NA     \n",
              "8 8        1.1996710  1.4505940  0.7209620  0.4257135 1.854306 1       0     \n",
              "9 8        0.3485188 -0.0131268 -0.2865033  0.2369193 0.257794 1       0     \n",
              "  tipo_escola bf ⋯ q35 q36 q37 q38 q39 q40 q41 q42 q43 q44\n",
              "4 1            1 ⋯  4   3   4   4   2   3   2   1   1   3 \n",
              "5 1            0 ⋯  3   1   5   1   3   4   2   2   1   4 \n",
              "6 1           NA ⋯ NA  NA  NA  NA  NA  NA  NA  NA  NA  NA \n",
              "7 1            0 ⋯  2   1   4   3   5   5   5   5   1   5 \n",
              "8 1           NA ⋯  5   1   1   1   5   1   5   4   1   3 \n",
              "9 1           NA ⋯  5   3   2   1   4   4   3   3   3   4 "
            ]
          },
          "metadata": {
            "tags": []
          }
        }
      ]
    },
    {
      "cell_type": "code",
      "metadata": {
        "id": "Qjs5q39AO5hk",
        "colab_type": "code",
        "colab": {},
        "outputId": "8cc07797-8d13-480a-adfc-a652ceb0b4ae"
      },
      "source": [
        "install.packages(\"bayesplot\")"
      ],
      "execution_count": 0,
      "outputs": [
        {
          "output_type": "stream",
          "text": [
            "Updating HTML index of packages in '.Library'\n",
            "Making 'packages.html' ... done\n"
          ],
          "name": "stderr"
        }
      ]
    },
    {
      "cell_type": "code",
      "metadata": {
        "id": "1xlP6upwO5hu",
        "colab_type": "code",
        "colab": {}
      },
      "source": [
        "library(rstanarm)\n",
        "library(BART)\n",
        "library(pROC)\n",
        "library(parallel)\n",
        "library(dummies)\n",
        "library(plyr)  \n",
        "library(iml)\n",
        "library(ggplot2)\n",
        "library(bayesplot)\n",
        "#library(Rcpp)"
      ],
      "execution_count": 0,
      "outputs": []
    },
    {
      "cell_type": "markdown",
      "metadata": {
        "id": "1-5N1eqWO5h2",
        "colab_type": "text"
      },
      "source": [
        "Número de núcleos no CPU"
      ]
    },
    {
      "cell_type": "code",
      "metadata": {
        "id": "M2u32WSYO5h5",
        "colab_type": "code",
        "colab": {},
        "outputId": "80aac116-e268-4fa9-f077-fb96d1ab9571"
      },
      "source": [
        "detectCores(all.tests = FALSE, logical = TRUE)"
      ],
      "execution_count": 0,
      "outputs": [
        {
          "output_type": "display_data",
          "data": {
            "text/html": [
              "4"
            ],
            "text/latex": "4",
            "text/markdown": "4",
            "text/plain": [
              "[1] 4"
            ]
          },
          "metadata": {
            "tags": []
          }
        }
      ]
    },
    {
      "cell_type": "markdown",
      "metadata": {
        "id": "ctos9ZblO5iB",
        "colab_type": "text"
      },
      "source": [
        "Criando painel curto"
      ]
    },
    {
      "cell_type": "code",
      "metadata": {
        "id": "zdmV2Pd7O5iC",
        "colab_type": "code",
        "colab": {}
      },
      "source": [
        "sem=c('O','C','E','A','N')\n",
        "  \n",
        "#Separando variáveis\n",
        "vars<-c('id_lepes','O_p_ano','C_p_ano','E_p_ano','A_p_ano','N_p_ano', 'mat_12', 'port_12', 'mat_17', 'port_17',\n",
        "          'educmae1','educmae2','educmae3','educmae4','educmae5','educmae6',\n",
        "          'serie','genero','brancos','tipo_escola','sobreviventes','escola','idade','reprov_antes_12','bf')\n",
        "  \n",
        "#Separando bases por ano\n",
        "base12<-subset(base,tempo==2012)[c(vars)]\n",
        "names(base12)<-c('id_lepes','O_p_12','C_p_12','E_p_12','A_p_12','N_p_12', 'mat_12', 'port_12', 'mat_17', 'port_17',\n",
        "                   'educmae1','educmae2','educmae3','educmae4','educmae5','educmae6',\n",
        "                   'serie','genero','brancos','tipo_escola_12','sobreviventes','escola_12','idade_12','reprov_antes_12','bf_12')\n",
        "base12<-base12[c('id_lepes','O_p_12','C_p_12','E_p_12','A_p_12','N_p_12', 'mat_12', 'port_12', \n",
        "                   'educmae1','educmae2','educmae3','educmae4','educmae5','educmae6',\n",
        "                   'serie','genero','brancos','tipo_escola_12','sobreviventes','escola_12','idade_12','reprov_antes_12','bf_12')]\n",
        "  \n",
        "base17<-subset(base,tempo==2017)[c(vars)]\n",
        "names(base17)<-c('id_lepes','O_p_17','C_p_17','E_p_17','A_p_17','N_p_17', 'mat_12', 'port_12', 'mat_17', 'port_17',\n",
        "                   'educmae1','educmae2','educmae3','educmae4','educmae5','educmae6',\n",
        "                   'serie','genero','brancos','tipo_escola_17','sobreviventes','escola_17','idade_17','reprov_antes_12','bf_17')\n",
        "base17<-base17[c('id_lepes','O_p_17','C_p_17','E_p_17','A_p_17','N_p_17', 'mat_17', 'port_17', \n",
        "                   'educmae1','educmae2','educmae3','educmae4','educmae5','educmae6',\n",
        "                   'serie','genero','brancos','tipo_escola_17','sobreviventes','escola_17','idade_17','reprov_antes_12','bf_17')]"
      ],
      "execution_count": 0,
      "outputs": []
    },
    {
      "cell_type": "markdown",
      "metadata": {
        "id": "56VdeEAOO5iH",
        "colab_type": "text"
      },
      "source": [
        "Criando painel que os indivíduos são aqueles que estavam em 2012"
      ]
    },
    {
      "cell_type": "code",
      "metadata": {
        "id": "wkD7b0TPO5iJ",
        "colab_type": "code",
        "colab": {}
      },
      "source": [
        "painel<-merge(base12,base17,by=\"id_lepes\",all.x = T)"
      ],
      "execution_count": 0,
      "outputs": []
    },
    {
      "cell_type": "markdown",
      "metadata": {
        "id": "CotIKdIJO5iP",
        "colab_type": "text"
      },
      "source": [
        "Consolidando variáveis"
      ]
    },
    {
      "cell_type": "code",
      "metadata": {
        "id": "i8KElv91O5iQ",
        "colab_type": "code",
        "colab": {}
      },
      "source": [
        "painel$reprov_antes_12<-ifelse(is.na(painel$reprov_antes_12.x),painel$reprov_antes_12.y,painel$reprov_antes_12.x)\n",
        "  \n",
        "painel$genero<-ifelse(!is.na(painel$genero.y),painel$genero.y,painel$genero.x)\n",
        "painel$brancos<-ifelse(!is.na(painel$brancos.y),painel$brancos.y,painel$brancos.x)\n",
        "  \n",
        "names(painel)[names(painel) == 'serie.x'] <- 'serie_12'\n",
        "names(painel)[names(painel) == 'serie.y'] <- 'serie_17'\n",
        "  \n",
        "#names(painel)[names(painel) == 'tipo_escola.x'] <- 'tipo_escola_12'\n",
        "#names(painel)[names(painel) == 'tipo_escola.y'] <- 'tipo_escola_17'\n",
        "\n",
        "names(painel)[names(painel) == 'sobreviventes.x'] <- 'sobreviventes'\n",
        "  \n",
        "for(i in 1:6){\n",
        "    names(painel)[names(painel) == paste('educmae',i,'.x',sep=\"\")] <- paste('educmae',i,'_12',sep=\"\")\n",
        "    names(painel)[names(painel) == paste('educmae',i,'.y',sep=\"\")] <- paste('educmae',i,'_17',sep=\"\")\n",
        "}\n",
        " \n",
        "#Unificando educmae\n",
        "#painel$educmae_12<-as.numeric(apply(painel %>% select(educmae1_12:educmae6_12),1,which.max))\n",
        "\n",
        "#Criando variável Y\n",
        "painel$distorcao<-ifelse(is.na(painel$serie_12) | is.na(painel$serie_17), NA,\n",
        "                                  ifelse(painel$serie_12==4 & painel$serie_17>=9, 0,\n",
        "                                         ifelse(painel$serie_12==5 & painel$serie_17>=10, 0,\n",
        "                                                ifelse(painel$serie_12==6 & painel$serie_17>=11, 0, 1))))"
      ],
      "execution_count": 0,
      "outputs": []
    },
    {
      "cell_type": "markdown",
      "metadata": {
        "id": "uBxy0j3EO5iU",
        "colab_type": "text"
      },
      "source": [
        "Mantendo pessoas que n estavam no 4 ano em 2012"
      ]
    },
    {
      "cell_type": "code",
      "metadata": {
        "id": "uOOaGhbPO5iV",
        "colab_type": "code",
        "colab": {}
      },
      "source": [
        "painel<-subset(painel, serie_12!=4)"
      ],
      "execution_count": 0,
      "outputs": []
    },
    {
      "cell_type": "markdown",
      "metadata": {
        "id": "NxQDJ4J6O5ib",
        "colab_type": "text"
      },
      "source": [
        "Checando variáveis"
      ]
    },
    {
      "cell_type": "code",
      "metadata": {
        "id": "es4ASaV_O5ic",
        "colab_type": "code",
        "colab": {},
        "outputId": "169e0c3f-9f9b-49f4-bb96-ff1268e7a189"
      },
      "source": [
        "names(painel)"
      ],
      "execution_count": 0,
      "outputs": [
        {
          "output_type": "display_data",
          "data": {
            "text/html": [
              "<ol class=list-inline>\n",
              "\t<li>'id_lepes'</li>\n",
              "\t<li>'O_p_12'</li>\n",
              "\t<li>'C_p_12'</li>\n",
              "\t<li>'E_p_12'</li>\n",
              "\t<li>'A_p_12'</li>\n",
              "\t<li>'N_p_12'</li>\n",
              "\t<li>'mat_12'</li>\n",
              "\t<li>'port_12'</li>\n",
              "\t<li>'educmae1_12'</li>\n",
              "\t<li>'educmae2_12'</li>\n",
              "\t<li>'educmae3_12'</li>\n",
              "\t<li>'educmae4_12'</li>\n",
              "\t<li>'educmae5_12'</li>\n",
              "\t<li>'educmae6_12'</li>\n",
              "\t<li>'serie_12'</li>\n",
              "\t<li>'genero.x'</li>\n",
              "\t<li>'brancos.x'</li>\n",
              "\t<li>'tipo_escola_12'</li>\n",
              "\t<li>'sobreviventes'</li>\n",
              "\t<li>'escola_12'</li>\n",
              "\t<li>'idade_12'</li>\n",
              "\t<li>'reprov_antes_12.x'</li>\n",
              "\t<li>'bf_12'</li>\n",
              "\t<li>'O_p_17'</li>\n",
              "\t<li>'C_p_17'</li>\n",
              "\t<li>'E_p_17'</li>\n",
              "\t<li>'A_p_17'</li>\n",
              "\t<li>'N_p_17'</li>\n",
              "\t<li>'mat_17'</li>\n",
              "\t<li>'port_17'</li>\n",
              "\t<li>'educmae1_17'</li>\n",
              "\t<li>'educmae2_17'</li>\n",
              "\t<li>'educmae3_17'</li>\n",
              "\t<li>'educmae4_17'</li>\n",
              "\t<li>'educmae5_17'</li>\n",
              "\t<li>'educmae6_17'</li>\n",
              "\t<li>'serie_17'</li>\n",
              "\t<li>'genero.y'</li>\n",
              "\t<li>'brancos.y'</li>\n",
              "\t<li>'tipo_escola_17'</li>\n",
              "\t<li>'sobreviventes.y'</li>\n",
              "\t<li>'escola_17'</li>\n",
              "\t<li>'idade_17'</li>\n",
              "\t<li>'reprov_antes_12.y'</li>\n",
              "\t<li>'bf_17'</li>\n",
              "\t<li>'reprov_antes_12'</li>\n",
              "\t<li>'genero'</li>\n",
              "\t<li>'brancos'</li>\n",
              "\t<li>'distorcao'</li>\n",
              "</ol>\n"
            ],
            "text/latex": "\\begin{enumerate*}\n\\item 'id\\_lepes'\n\\item 'O\\_p\\_12'\n\\item 'C\\_p\\_12'\n\\item 'E\\_p\\_12'\n\\item 'A\\_p\\_12'\n\\item 'N\\_p\\_12'\n\\item 'mat\\_12'\n\\item 'port\\_12'\n\\item 'educmae1\\_12'\n\\item 'educmae2\\_12'\n\\item 'educmae3\\_12'\n\\item 'educmae4\\_12'\n\\item 'educmae5\\_12'\n\\item 'educmae6\\_12'\n\\item 'serie\\_12'\n\\item 'genero.x'\n\\item 'brancos.x'\n\\item 'tipo\\_escola\\_12'\n\\item 'sobreviventes'\n\\item 'escola\\_12'\n\\item 'idade\\_12'\n\\item 'reprov\\_antes\\_12.x'\n\\item 'bf\\_12'\n\\item 'O\\_p\\_17'\n\\item 'C\\_p\\_17'\n\\item 'E\\_p\\_17'\n\\item 'A\\_p\\_17'\n\\item 'N\\_p\\_17'\n\\item 'mat\\_17'\n\\item 'port\\_17'\n\\item 'educmae1\\_17'\n\\item 'educmae2\\_17'\n\\item 'educmae3\\_17'\n\\item 'educmae4\\_17'\n\\item 'educmae5\\_17'\n\\item 'educmae6\\_17'\n\\item 'serie\\_17'\n\\item 'genero.y'\n\\item 'brancos.y'\n\\item 'tipo\\_escola\\_17'\n\\item 'sobreviventes.y'\n\\item 'escola\\_17'\n\\item 'idade\\_17'\n\\item 'reprov\\_antes\\_12.y'\n\\item 'bf\\_17'\n\\item 'reprov\\_antes\\_12'\n\\item 'genero'\n\\item 'brancos'\n\\item 'distorcao'\n\\end{enumerate*}\n",
            "text/markdown": "1. 'id_lepes'\n2. 'O_p_12'\n3. 'C_p_12'\n4. 'E_p_12'\n5. 'A_p_12'\n6. 'N_p_12'\n7. 'mat_12'\n8. 'port_12'\n9. 'educmae1_12'\n10. 'educmae2_12'\n11. 'educmae3_12'\n12. 'educmae4_12'\n13. 'educmae5_12'\n14. 'educmae6_12'\n15. 'serie_12'\n16. 'genero.x'\n17. 'brancos.x'\n18. 'tipo_escola_12'\n19. 'sobreviventes'\n20. 'escola_12'\n21. 'idade_12'\n22. 'reprov_antes_12.x'\n23. 'bf_12'\n24. 'O_p_17'\n25. 'C_p_17'\n26. 'E_p_17'\n27. 'A_p_17'\n28. 'N_p_17'\n29. 'mat_17'\n30. 'port_17'\n31. 'educmae1_17'\n32. 'educmae2_17'\n33. 'educmae3_17'\n34. 'educmae4_17'\n35. 'educmae5_17'\n36. 'educmae6_17'\n37. 'serie_17'\n38. 'genero.y'\n39. 'brancos.y'\n40. 'tipo_escola_17'\n41. 'sobreviventes.y'\n42. 'escola_17'\n43. 'idade_17'\n44. 'reprov_antes_12.y'\n45. 'bf_17'\n46. 'reprov_antes_12'\n47. 'genero'\n48. 'brancos'\n49. 'distorcao'\n\n\n",
            "text/plain": [
              " [1] \"id_lepes\"          \"O_p_12\"            \"C_p_12\"           \n",
              " [4] \"E_p_12\"            \"A_p_12\"            \"N_p_12\"           \n",
              " [7] \"mat_12\"            \"port_12\"           \"educmae1_12\"      \n",
              "[10] \"educmae2_12\"       \"educmae3_12\"       \"educmae4_12\"      \n",
              "[13] \"educmae5_12\"       \"educmae6_12\"       \"serie_12\"         \n",
              "[16] \"genero.x\"          \"brancos.x\"         \"tipo_escola_12\"   \n",
              "[19] \"sobreviventes\"     \"escola_12\"         \"idade_12\"         \n",
              "[22] \"reprov_antes_12.x\" \"bf_12\"             \"O_p_17\"           \n",
              "[25] \"C_p_17\"            \"E_p_17\"            \"A_p_17\"           \n",
              "[28] \"N_p_17\"            \"mat_17\"            \"port_17\"          \n",
              "[31] \"educmae1_17\"       \"educmae2_17\"       \"educmae3_17\"      \n",
              "[34] \"educmae4_17\"       \"educmae5_17\"       \"educmae6_17\"      \n",
              "[37] \"serie_17\"          \"genero.y\"          \"brancos.y\"        \n",
              "[40] \"tipo_escola_17\"    \"sobreviventes.y\"   \"escola_17\"        \n",
              "[43] \"idade_17\"          \"reprov_antes_12.y\" \"bf_17\"            \n",
              "[46] \"reprov_antes_12\"   \"genero\"            \"brancos\"          \n",
              "[49] \"distorcao\"        "
            ]
          },
          "metadata": {
            "tags": []
          }
        }
      ]
    },
    {
      "cell_type": "markdown",
      "metadata": {
        "id": "fjAqawWzO5ik",
        "colab_type": "text"
      },
      "source": [
        "Vendo melhor a variável de interesse:"
      ]
    },
    {
      "cell_type": "code",
      "metadata": {
        "id": "38StkPqgO5il",
        "colab_type": "code",
        "colab": {},
        "outputId": "d84d1470-477c-4f62-facd-c98625dcfc48"
      },
      "source": [
        "summary(painel['distorcao'])"
      ],
      "execution_count": 0,
      "outputs": [
        {
          "output_type": "display_data",
          "data": {
            "text/plain": [
              "   distorcao     \n",
              " Min.   :0.0000  \n",
              " 1st Qu.:0.0000  \n",
              " Median :0.0000  \n",
              " Mean   :0.1341  \n",
              " 3rd Qu.:0.0000  \n",
              " Max.   :1.0000  \n",
              " NA's   :1140    "
            ]
          },
          "metadata": {
            "tags": []
          }
        }
      ]
    },
    {
      "cell_type": "markdown",
      "metadata": {
        "id": "2DaHRdwuO5iv",
        "colab_type": "text"
      },
      "source": [
        "Selecionando variáveis"
      ]
    },
    {
      "cell_type": "code",
      "metadata": {
        "id": "mB0QV-SsO5iw",
        "colab_type": "code",
        "colab": {},
        "outputId": "946edabc-5ebc-4b3b-bd59-853c9802b434"
      },
      "source": [
        "data=as.data.frame(painel[,c('O_p_12','C_p_12','E_p_12','A_p_12','N_p_12',\n",
        "                          'serie_12','escola_12','mat_12','port_12',\n",
        "                          'educmae1_12', 'educmae2_12', 'educmae3_12', 'educmae4_12', 'educmae5_12', 'educmae6_12',\n",
        "                          'genero','brancos','reprov_antes_12',#'bf_12','tipo_escola_12',\n",
        "                          'distorcao')])\n",
        "\n",
        "dim(data)"
      ],
      "execution_count": 0,
      "outputs": [
        {
          "output_type": "display_data",
          "data": {
            "text/html": [
              "<ol class=list-inline>\n",
              "\t<li>3116</li>\n",
              "\t<li>19</li>\n",
              "</ol>\n"
            ],
            "text/latex": "\\begin{enumerate*}\n\\item 3116\n\\item 19\n\\end{enumerate*}\n",
            "text/markdown": "1. 3116\n2. 19\n\n\n",
            "text/plain": [
              "[1] 3116   19"
            ]
          },
          "metadata": {
            "tags": []
          }
        }
      ]
    },
    {
      "cell_type": "markdown",
      "metadata": {
        "id": "2pYFH04pO5i1",
        "colab_type": "text"
      },
      "source": [
        "Tirando missings"
      ]
    },
    {
      "cell_type": "code",
      "metadata": {
        "id": "PG3YHF8bO5i2",
        "colab_type": "code",
        "colab": {},
        "outputId": "b624f850-d7fb-4e2a-b504-9ca7001fea8f"
      },
      "source": [
        "data=na.omit(data)\n",
        "dim(data)"
      ],
      "execution_count": 0,
      "outputs": [
        {
          "output_type": "display_data",
          "data": {
            "text/html": [
              "<ol class=list-inline>\n",
              "\t<li>1831</li>\n",
              "\t<li>19</li>\n",
              "</ol>\n"
            ],
            "text/latex": "\\begin{enumerate*}\n\\item 1831\n\\item 19\n\\end{enumerate*}\n",
            "text/markdown": "1. 1831\n2. 19\n\n\n",
            "text/plain": [
              "[1] 1831   19"
            ]
          },
          "metadata": {
            "tags": []
          }
        }
      ]
    },
    {
      "cell_type": "markdown",
      "metadata": {
        "id": "VVmnAk9sO5i7",
        "colab_type": "text"
      },
      "source": [
        "Criando dummy de escola"
      ]
    },
    {
      "cell_type": "code",
      "metadata": {
        "id": "vmKgECMuO5i9",
        "colab_type": "code",
        "colab": {},
        "outputId": "702a69ad-fe7f-4adb-b3c0-e0f1f7743549"
      },
      "source": [
        "dummies <- dummy.data.frame(data, names = c('escola_12') , sep = \".\")\n",
        "\n",
        "X=dummies[,-NCOL(dummies)]\n",
        "y=dummies[,'distorcao']\n",
        "\n",
        "names(X)"
      ],
      "execution_count": 0,
      "outputs": [
        {
          "output_type": "display_data",
          "data": {
            "text/html": [
              "<ol class=list-inline>\n",
              "\t<li>'O_p_12'</li>\n",
              "\t<li>'C_p_12'</li>\n",
              "\t<li>'E_p_12'</li>\n",
              "\t<li>'A_p_12'</li>\n",
              "\t<li>'N_p_12'</li>\n",
              "\t<li>'serie_12'</li>\n",
              "\t<li>'escola_12.ALFEU RODRIGUES SANTINHO EMEF MANNA ENSINO'</li>\n",
              "\t<li>'escola_12.ANGELO COLAFEMINA EMEF'</li>\n",
              "\t<li>'escola_12.ANITA BARTOLETTE RODRIGUES EMEF'</li>\n",
              "\t<li>'escola_12.ANNA PASSAMONTI BALARDIN'</li>\n",
              "\t<li>'escola_12.ANTONIO FURLAN JUNIOR DOUTOR'</li>\n",
              "\t<li>'escola_12.CAMINHO SUAVE ESCOLA GA'</li>\n",
              "\t<li>'escola_12.COLEGIO ARTE LIVRE'</li>\n",
              "\t<li>'escola_12.DOUTOR SILVIO SARTI EMEF'</li>\n",
              "\t<li>'escola_12.EDITH SILVEIRA DALMASO PROFESSORA'</li>\n",
              "\t<li>'escola_12.EDUCAR COLEGIO'</li>\n",
              "\t<li>'escola_12.ELYDIA CARNEIRO DA ROCHA EMEF'</li>\n",
              "\t<li>'escola_12.FERRUCIO CHIARATTI'</li>\n",
              "\t<li>'escola_12.ISAIAS JOSE FERREIRA DOUTOR'</li>\n",
              "\t<li>'escola_12.MARIA APARECIDA O BELLINI EMEF'</li>\n",
              "\t<li>'escola_12.MARIA CONCEICAO R S MAGON PROFA'</li>\n",
              "\t<li>'escola_12.MARIA NELI M TONIELO PREF EMEIF'</li>\n",
              "\t<li>'escola_12.MARILENA ARANTES MENEGHINI EMEF'</li>\n",
              "\t<li>'escola_12.NICIA FABIOLA Z GIRALDI PROFA'</li>\n",
              "\t<li>'escola_12.PROF ANTONIO CRISTINO CABRAL EMEF'</li>\n",
              "\t<li>'escola_12.PROF RAUL DO PRADO VIANNA EMEF'</li>\n",
              "\t<li>'escola_12.PROFA ELVIRA ARRUDA DE SOUZA EMEF'</li>\n",
              "\t<li>'escola_12.PROFA JOANNINHA GILBERTI EMEF'</li>\n",
              "\t<li>'escola_12.PROFA NAIR TEIXEIRA ORTOLAN EMEF'</li>\n",
              "\t<li>'escola_12.PROFESSOR ANACLETO CRUZ EMEF'</li>\n",
              "\t<li>'escola_12.PROFESSOR JOSE NEGRI EMEF'</li>\n",
              "\t<li>'escola_12.RENASCER CENTRO EDUCACIONAL'</li>\n",
              "\t<li>'escola_12.ROBERTO ZANUTTO DESIDERIO EMEF'</li>\n",
              "\t<li>'escola_12.SESI 241'</li>\n",
              "\t<li>'escola_12.TECNO SERT COLEGIO'</li>\n",
              "\t<li>'escola_12.WALDOMIRO GOMES EMEF'</li>\n",
              "\t<li>'escola_12.WINSTON CHURCHILL'</li>\n",
              "\t<li>'mat_12'</li>\n",
              "\t<li>'port_12'</li>\n",
              "\t<li>'educmae1_12'</li>\n",
              "\t<li>'educmae2_12'</li>\n",
              "\t<li>'educmae3_12'</li>\n",
              "\t<li>'educmae4_12'</li>\n",
              "\t<li>'educmae5_12'</li>\n",
              "\t<li>'educmae6_12'</li>\n",
              "\t<li>'genero'</li>\n",
              "\t<li>'brancos'</li>\n",
              "\t<li>'reprov_antes_12'</li>\n",
              "</ol>\n"
            ],
            "text/latex": "\\begin{enumerate*}\n\\item 'O\\_p\\_12'\n\\item 'C\\_p\\_12'\n\\item 'E\\_p\\_12'\n\\item 'A\\_p\\_12'\n\\item 'N\\_p\\_12'\n\\item 'serie\\_12'\n\\item 'escola\\_12.ALFEU RODRIGUES SANTINHO EMEF MANNA ENSINO'\n\\item 'escola\\_12.ANGELO COLAFEMINA EMEF'\n\\item 'escola\\_12.ANITA BARTOLETTE RODRIGUES EMEF'\n\\item 'escola\\_12.ANNA PASSAMONTI BALARDIN'\n\\item 'escola\\_12.ANTONIO FURLAN JUNIOR DOUTOR'\n\\item 'escola\\_12.CAMINHO SUAVE ESCOLA GA'\n\\item 'escola\\_12.COLEGIO ARTE LIVRE'\n\\item 'escola\\_12.DOUTOR SILVIO SARTI EMEF'\n\\item 'escola\\_12.EDITH SILVEIRA DALMASO PROFESSORA'\n\\item 'escola\\_12.EDUCAR COLEGIO'\n\\item 'escola\\_12.ELYDIA CARNEIRO DA ROCHA EMEF'\n\\item 'escola\\_12.FERRUCIO CHIARATTI'\n\\item 'escola\\_12.ISAIAS JOSE FERREIRA DOUTOR'\n\\item 'escola\\_12.MARIA APARECIDA O BELLINI EMEF'\n\\item 'escola\\_12.MARIA CONCEICAO R S MAGON PROFA'\n\\item 'escola\\_12.MARIA NELI M TONIELO PREF EMEIF'\n\\item 'escola\\_12.MARILENA ARANTES MENEGHINI EMEF'\n\\item 'escola\\_12.NICIA FABIOLA Z GIRALDI PROFA'\n\\item 'escola\\_12.PROF ANTONIO CRISTINO CABRAL EMEF'\n\\item 'escola\\_12.PROF RAUL DO PRADO VIANNA EMEF'\n\\item 'escola\\_12.PROFA ELVIRA ARRUDA DE SOUZA EMEF'\n\\item 'escola\\_12.PROFA JOANNINHA GILBERTI EMEF'\n\\item 'escola\\_12.PROFA NAIR TEIXEIRA ORTOLAN EMEF'\n\\item 'escola\\_12.PROFESSOR ANACLETO CRUZ EMEF'\n\\item 'escola\\_12.PROFESSOR JOSE NEGRI EMEF'\n\\item 'escola\\_12.RENASCER CENTRO EDUCACIONAL'\n\\item 'escola\\_12.ROBERTO ZANUTTO DESIDERIO EMEF'\n\\item 'escola\\_12.SESI 241'\n\\item 'escola\\_12.TECNO SERT COLEGIO'\n\\item 'escola\\_12.WALDOMIRO GOMES EMEF'\n\\item 'escola\\_12.WINSTON CHURCHILL'\n\\item 'mat\\_12'\n\\item 'port\\_12'\n\\item 'educmae1\\_12'\n\\item 'educmae2\\_12'\n\\item 'educmae3\\_12'\n\\item 'educmae4\\_12'\n\\item 'educmae5\\_12'\n\\item 'educmae6\\_12'\n\\item 'genero'\n\\item 'brancos'\n\\item 'reprov\\_antes\\_12'\n\\end{enumerate*}\n",
            "text/markdown": "1. 'O_p_12'\n2. 'C_p_12'\n3. 'E_p_12'\n4. 'A_p_12'\n5. 'N_p_12'\n6. 'serie_12'\n7. 'escola_12.ALFEU RODRIGUES SANTINHO EMEF MANNA ENSINO'\n8. 'escola_12.ANGELO COLAFEMINA EMEF'\n9. 'escola_12.ANITA BARTOLETTE RODRIGUES EMEF'\n10. 'escola_12.ANNA PASSAMONTI BALARDIN'\n11. 'escola_12.ANTONIO FURLAN JUNIOR DOUTOR'\n12. 'escola_12.CAMINHO SUAVE ESCOLA GA'\n13. 'escola_12.COLEGIO ARTE LIVRE'\n14. 'escola_12.DOUTOR SILVIO SARTI EMEF'\n15. 'escola_12.EDITH SILVEIRA DALMASO PROFESSORA'\n16. 'escola_12.EDUCAR COLEGIO'\n17. 'escola_12.ELYDIA CARNEIRO DA ROCHA EMEF'\n18. 'escola_12.FERRUCIO CHIARATTI'\n19. 'escola_12.ISAIAS JOSE FERREIRA DOUTOR'\n20. 'escola_12.MARIA APARECIDA O BELLINI EMEF'\n21. 'escola_12.MARIA CONCEICAO R S MAGON PROFA'\n22. 'escola_12.MARIA NELI M TONIELO PREF EMEIF'\n23. 'escola_12.MARILENA ARANTES MENEGHINI EMEF'\n24. 'escola_12.NICIA FABIOLA Z GIRALDI PROFA'\n25. 'escola_12.PROF ANTONIO CRISTINO CABRAL EMEF'\n26. 'escola_12.PROF RAUL DO PRADO VIANNA EMEF'\n27. 'escola_12.PROFA ELVIRA ARRUDA DE SOUZA EMEF'\n28. 'escola_12.PROFA JOANNINHA GILBERTI EMEF'\n29. 'escola_12.PROFA NAIR TEIXEIRA ORTOLAN EMEF'\n30. 'escola_12.PROFESSOR ANACLETO CRUZ EMEF'\n31. 'escola_12.PROFESSOR JOSE NEGRI EMEF'\n32. 'escola_12.RENASCER CENTRO EDUCACIONAL'\n33. 'escola_12.ROBERTO ZANUTTO DESIDERIO EMEF'\n34. 'escola_12.SESI 241'\n35. 'escola_12.TECNO SERT COLEGIO'\n36. 'escola_12.WALDOMIRO GOMES EMEF'\n37. 'escola_12.WINSTON CHURCHILL'\n38. 'mat_12'\n39. 'port_12'\n40. 'educmae1_12'\n41. 'educmae2_12'\n42. 'educmae3_12'\n43. 'educmae4_12'\n44. 'educmae5_12'\n45. 'educmae6_12'\n46. 'genero'\n47. 'brancos'\n48. 'reprov_antes_12'\n\n\n",
            "text/plain": [
              " [1] \"O_p_12\"                                              \n",
              " [2] \"C_p_12\"                                              \n",
              " [3] \"E_p_12\"                                              \n",
              " [4] \"A_p_12\"                                              \n",
              " [5] \"N_p_12\"                                              \n",
              " [6] \"serie_12\"                                            \n",
              " [7] \"escola_12.ALFEU RODRIGUES SANTINHO EMEF MANNA ENSINO\"\n",
              " [8] \"escola_12.ANGELO COLAFEMINA EMEF\"                    \n",
              " [9] \"escola_12.ANITA BARTOLETTE RODRIGUES EMEF\"           \n",
              "[10] \"escola_12.ANNA PASSAMONTI BALARDIN\"                  \n",
              "[11] \"escola_12.ANTONIO FURLAN JUNIOR DOUTOR\"              \n",
              "[12] \"escola_12.CAMINHO SUAVE ESCOLA GA\"                   \n",
              "[13] \"escola_12.COLEGIO ARTE LIVRE\"                        \n",
              "[14] \"escola_12.DOUTOR SILVIO SARTI EMEF\"                  \n",
              "[15] \"escola_12.EDITH SILVEIRA DALMASO PROFESSORA\"         \n",
              "[16] \"escola_12.EDUCAR COLEGIO\"                            \n",
              "[17] \"escola_12.ELYDIA CARNEIRO DA ROCHA EMEF\"             \n",
              "[18] \"escola_12.FERRUCIO CHIARATTI\"                        \n",
              "[19] \"escola_12.ISAIAS JOSE FERREIRA DOUTOR\"               \n",
              "[20] \"escola_12.MARIA APARECIDA O BELLINI EMEF\"            \n",
              "[21] \"escola_12.MARIA CONCEICAO R S MAGON PROFA\"           \n",
              "[22] \"escola_12.MARIA NELI M TONIELO PREF EMEIF\"           \n",
              "[23] \"escola_12.MARILENA ARANTES MENEGHINI EMEF\"           \n",
              "[24] \"escola_12.NICIA FABIOLA Z GIRALDI PROFA\"             \n",
              "[25] \"escola_12.PROF ANTONIO CRISTINO CABRAL EMEF\"         \n",
              "[26] \"escola_12.PROF RAUL DO PRADO VIANNA EMEF\"            \n",
              "[27] \"escola_12.PROFA ELVIRA ARRUDA DE SOUZA EMEF\"         \n",
              "[28] \"escola_12.PROFA JOANNINHA GILBERTI EMEF\"             \n",
              "[29] \"escola_12.PROFA NAIR TEIXEIRA ORTOLAN EMEF\"          \n",
              "[30] \"escola_12.PROFESSOR ANACLETO CRUZ EMEF\"              \n",
              "[31] \"escola_12.PROFESSOR JOSE NEGRI EMEF\"                 \n",
              "[32] \"escola_12.RENASCER CENTRO EDUCACIONAL\"               \n",
              "[33] \"escola_12.ROBERTO ZANUTTO DESIDERIO EMEF\"            \n",
              "[34] \"escola_12.SESI 241\"                                  \n",
              "[35] \"escola_12.TECNO SERT COLEGIO\"                        \n",
              "[36] \"escola_12.WALDOMIRO GOMES EMEF\"                      \n",
              "[37] \"escola_12.WINSTON CHURCHILL\"                         \n",
              "[38] \"mat_12\"                                              \n",
              "[39] \"port_12\"                                             \n",
              "[40] \"educmae1_12\"                                         \n",
              "[41] \"educmae2_12\"                                         \n",
              "[42] \"educmae3_12\"                                         \n",
              "[43] \"educmae4_12\"                                         \n",
              "[44] \"educmae5_12\"                                         \n",
              "[45] \"educmae6_12\"                                         \n",
              "[46] \"genero\"                                              \n",
              "[47] \"brancos\"                                             \n",
              "[48] \"reprov_antes_12\"                                     "
            ]
          },
          "metadata": {
            "tags": []
          }
        }
      ]
    },
    {
      "cell_type": "code",
      "metadata": {
        "id": "bSpy_AiXO5jB",
        "colab_type": "code",
        "colab": {}
      },
      "source": [
        "X=data[,-NCOL(data)]     \n",
        "y=data[,'distorcao']"
      ],
      "execution_count": 0,
      "outputs": []
    },
    {
      "cell_type": "code",
      "metadata": {
        "id": "FVDTIkN5O5jV",
        "colab_type": "code",
        "colab": {}
      },
      "source": [
        "set.seed(4)\n",
        "index_train<-sample(seq_len(nrow(X)),size=1000)"
      ],
      "execution_count": 0,
      "outputs": []
    },
    {
      "cell_type": "code",
      "metadata": {
        "id": "jxEk3SJ0O5jp",
        "colab_type": "code",
        "colab": {}
      },
      "source": [
        "ntree=300\n",
        "k=2\n",
        "\n",
        "#thin=5"
      ],
      "execution_count": 0,
      "outputs": []
    },
    {
      "cell_type": "code",
      "metadata": {
        "id": "KyA9QVP_O5j-",
        "colab_type": "code",
        "colab": {}
      },
      "source": [
        "post=mc.pbart(X[index_train,], y[index_train], X[-index_train,], ntree=ntree, k=k, rho=NCOL(X),\n",
        "              sparse=TRUE, nskip=2000, ndpost=1000, mc.cores=4)"
      ],
      "execution_count": 0,
      "outputs": []
    },
    {
      "cell_type": "code",
      "metadata": {
        "id": "KhopZHjRO5kD",
        "colab_type": "code",
        "colab": {},
        "outputId": "e66e1fc9-c122-412b-d198-51748a44d6cc"
      },
      "source": [
        "# Predict results\n",
        "post$prob.test <- pnorm(post$yhat.test)\n",
        "results_prob <- apply(post$prob.test, 2, mean)\n",
        "\n",
        "# Actual answers\n",
        "answers <- y[-index_train]\n",
        "\n",
        "#AUC\n",
        "roc_obj_bart <- roc(answers, results_prob)\n",
        "roc_obj_bart$auc\n",
        "\n",
        "plot(roc_obj_bart)"
      ],
      "execution_count": 0,
      "outputs": [
        {
          "output_type": "stream",
          "text": [
            "Setting levels: control = 0, case = 1\n",
            "Setting direction: controls < cases\n"
          ],
          "name": "stderr"
        },
        {
          "output_type": "display_data",
          "data": {
            "text/html": [
              "0,724874898316366"
            ],
            "text/latex": "0,724874898316366",
            "text/markdown": "0,724874898316366",
            "text/plain": [
              "Area under the curve: 0,7249"
            ]
          },
          "metadata": {
            "tags": []
          }
        },
        {
          "output_type": "display_data",
          "data": {
            "image/png": "[encoded data removed]",
            "text/plain": [
              "plot without title"
            ]
          },
          "metadata": {
            "tags": []
          }
        }
      ]
    },
    {
      "cell_type": "code",
      "metadata": {
        "id": "A6rekIbMO5kS",
        "colab_type": "code",
        "colab": {},
        "outputId": "b9c8a949-a33c-402a-f4a5-1fa7682d9cf1"
      },
      "source": [
        "names(X)"
      ],
      "execution_count": 0,
      "outputs": [
        {
          "output_type": "display_data",
          "data": {
            "text/html": [
              "<ol class=list-inline>\n",
              "\t<li>'O_p_12'</li>\n",
              "\t<li>'C_p_12'</li>\n",
              "\t<li>'E_p_12'</li>\n",
              "\t<li>'A_p_12'</li>\n",
              "\t<li>'N_p_12'</li>\n",
              "\t<li>'serie_12'</li>\n",
              "\t<li>'escola_12'</li>\n",
              "\t<li>'mat_12'</li>\n",
              "\t<li>'port_12'</li>\n",
              "\t<li>'educmae1_12'</li>\n",
              "\t<li>'educmae2_12'</li>\n",
              "\t<li>'educmae3_12'</li>\n",
              "\t<li>'educmae4_12'</li>\n",
              "\t<li>'educmae5_12'</li>\n",
              "\t<li>'educmae6_12'</li>\n",
              "\t<li>'genero'</li>\n",
              "\t<li>'brancos'</li>\n",
              "\t<li>'reprov_antes_12'</li>\n",
              "</ol>\n"
            ],
            "text/latex": "\\begin{enumerate*}\n\\item 'O\\_p\\_12'\n\\item 'C\\_p\\_12'\n\\item 'E\\_p\\_12'\n\\item 'A\\_p\\_12'\n\\item 'N\\_p\\_12'\n\\item 'serie\\_12'\n\\item 'escola\\_12'\n\\item 'mat\\_12'\n\\item 'port\\_12'\n\\item 'educmae1\\_12'\n\\item 'educmae2\\_12'\n\\item 'educmae3\\_12'\n\\item 'educmae4\\_12'\n\\item 'educmae5\\_12'\n\\item 'educmae6\\_12'\n\\item 'genero'\n\\item 'brancos'\n\\item 'reprov\\_antes\\_12'\n\\end{enumerate*}\n",
            "text/markdown": "1. 'O_p_12'\n2. 'C_p_12'\n3. 'E_p_12'\n4. 'A_p_12'\n5. 'N_p_12'\n6. 'serie_12'\n7. 'escola_12'\n8. 'mat_12'\n9. 'port_12'\n10. 'educmae1_12'\n11. 'educmae2_12'\n12. 'educmae3_12'\n13. 'educmae4_12'\n14. 'educmae5_12'\n15. 'educmae6_12'\n16. 'genero'\n17. 'brancos'\n18. 'reprov_antes_12'\n\n\n",
            "text/plain": [
              " [1] \"O_p_12\"          \"C_p_12\"          \"E_p_12\"          \"A_p_12\"         \n",
              " [5] \"N_p_12\"          \"serie_12\"        \"escola_12\"       \"mat_12\"         \n",
              " [9] \"port_12\"         \"educmae1_12\"     \"educmae2_12\"     \"educmae3_12\"    \n",
              "[13] \"educmae4_12\"     \"educmae5_12\"     \"educmae6_12\"     \"genero\"         \n",
              "[17] \"brancos\"         \"reprov_antes_12\""
            ]
          },
          "metadata": {
            "tags": []
          }
        }
      ]
    },
    {
      "cell_type": "code",
      "metadata": {
        "id": "shf1BkezO5km",
        "colab_type": "code",
        "colab": {}
      },
      "source": [
        "ntree=300\n",
        "k=2\n",
        "thin=150"
      ],
      "execution_count": 0,
      "outputs": []
    },
    {
      "cell_type": "code",
      "metadata": {
        "id": "L1xVFWXBO5ks",
        "colab_type": "code",
        "colab": {}
      },
      "source": [
        "start.time <- Sys.time()"
      ],
      "execution_count": 0,
      "outputs": []
    },
    {
      "cell_type": "code",
      "metadata": {
        "id": "Zc9HX9pIO5lE",
        "colab_type": "code",
        "colab": {}
      },
      "source": [
        "set.seed(42)\n",
        "post=mc.pbart(X[index_train,],y[index_train],X[-index_train,], ntree=ntree, k=k, rho=NCOL(X),\n",
        "           sparse=TRUE, nskip=50000, ndpost=10000, keepevery=thin, mc.cores=4)"
      ],
      "execution_count": 0,
      "outputs": []
    },
    {
      "cell_type": "code",
      "metadata": {
        "id": "oRW99pR9O5ll",
        "colab_type": "code",
        "colab": {},
        "outputId": "2dd8ea88-e04b-4289-f853-3741c94d04ca"
      },
      "source": [
        "# Predict results\n",
        "post$prob.test <- pnorm(post$yhat.test)\n",
        "results_prob <- apply(post$prob.test, 2, mean)\n",
        "\n",
        "# Actual answers\n",
        "answers <- y[-index_train]\n",
        "\n",
        "#AUC\n",
        "roc_obj_bart <- roc(answers, results_prob)\n",
        "roc_obj_bart$auc\n",
        "\n",
        "plot(roc_obj_bart)"
      ],
      "execution_count": 0,
      "outputs": [
        {
          "output_type": "stream",
          "text": [
            "Setting levels: control = 0, case = 1\n",
            "Setting direction: controls < cases\n"
          ],
          "name": "stderr"
        },
        {
          "output_type": "display_data",
          "data": {
            "text/html": [
              "0,73036187113857"
            ],
            "text/latex": "0,73036187113857",
            "text/markdown": "0,73036187113857",
            "text/plain": [
              "Area under the curve: 0,7304"
            ]
          },
          "metadata": {
            "tags": []
          }
        },
        {
          "output_type": "display_data",
          "data": {
            "image/png": "[encoded data removed]",
            "text/plain": [
              "plot without title"
            ]
          },
          "metadata": {
            "tags": []
          }
        }
      ]
    },
    {
      "cell_type": "code",
      "metadata": {
        "id": "QG5XtMJrO5lt",
        "colab_type": "code",
        "colab": {},
        "outputId": "9875bf2a-d7c2-4576-e54f-9eee0d9a46a0"
      },
      "source": [
        "post.mcmc <- pnorm(post$yhat.test)\n",
        "z <- gewekediag(post.mcmc, frac1=0.1, frac2=0.5)$z\n",
        "\n",
        "z2<-rnorm(5000) #NROW(X[-index_train,])\n",
        "\n",
        "plot(density(z))\n",
        "lines(density(z2))\n",
        "ks.test(z, z2)"
      ],
      "execution_count": 0,
      "outputs": [
        {
          "output_type": "display_data",
          "data": {
            "text/plain": [
              "\n",
              "\tTwo-sample Kolmogorov-Smirnov test\n",
              "\n",
              "data:  z and z2\n",
              "D = 0,081552, p-value = 0,000153\n",
              "alternative hypothesis: two-sided\n"
            ]
          },
          "metadata": {
            "tags": []
          }
        },
        {
          "output_type": "display_data",
          "data": {
            "image/png": "[encoded data removed]",
            "text/plain": [
              "Plot with title “density.default(x = z)”"
            ]
          },
          "metadata": {
            "tags": []
          }
        }
      ]
    },
    {
      "cell_type": "code",
      "metadata": {
        "id": "y4m11-ZSO5lz",
        "colab_type": "code",
        "colab": {},
        "outputId": "6ed39f21-c05e-48d7-950e-9bbd5380c5b8"
      },
      "source": [
        "post.mcmc <- pnorm(post$yhat.test)\n",
        "z <- gewekediag(post.mcmc, frac1=0.2, frac2=0.5)$z\n",
        "\n",
        "z2<-rnorm(5000) #NROW(X[-index_train,])\n",
        "\n",
        "plot(density(z))\n",
        "lines(density(z2))\n",
        "ks.test(z, z2)"
      ],
      "execution_count": 0,
      "outputs": [
        {
          "output_type": "display_data",
          "data": {
            "text/plain": [
              "\n",
              "\tTwo-sample Kolmogorov-Smirnov test\n",
              "\n",
              "data:  z and z2\n",
              "D = 0,072473, p-value = 0,001123\n",
              "alternative hypothesis: two-sided\n"
            ]
          },
          "metadata": {
            "tags": []
          }
        },
        {
          "output_type": "display_data",
          "data": {
            "image/png": "[encoded data removed]",
            "text/plain": [
              "Plot with title “density.default(x = z)”"
            ]
          },
          "metadata": {
            "tags": []
          }
        }
      ]
    },
    {
      "cell_type": "code",
      "metadata": {
        "id": "px2OiuaPO5l5",
        "colab_type": "code",
        "colab": {},
        "outputId": "52a4b795-03b7-414e-a492-a811493796ec"
      },
      "source": [
        "post.mcmc <- pnorm(post$yhat.test)\n",
        "z <- gewekediag(post.mcmc, frac1=0.3, frac2=0.5)$z\n",
        "\n",
        "z2<-rnorm(5000) #NROW(X[-index_train,])\n",
        "\n",
        "plot(density(z))\n",
        "lines(density(z2))\n",
        "ks.test(z, z2)"
      ],
      "execution_count": 0,
      "outputs": [
        {
          "output_type": "display_data",
          "data": {
            "text/plain": [
              "\n",
              "\tTwo-sample Kolmogorov-Smirnov test\n",
              "\n",
              "data:  z and z2\n",
              "D = 0,042839, p-value = 0,1462\n",
              "alternative hypothesis: two-sided\n"
            ]
          },
          "metadata": {
            "tags": []
          }
        },
        {
          "output_type": "display_data",
          "data": {
            "image/png": "[encoded data removed]",
            "text/plain": [
              "Plot with title “density.default(x = z)”"
            ]
          },
          "metadata": {
            "tags": []
          }
        }
      ]
    },
    {
      "cell_type": "code",
      "metadata": {
        "id": "RNrpGOm-O5mA",
        "colab_type": "code",
        "colab": {},
        "outputId": "2c2271ce-7c5f-4e16-c7fb-f8cfe0fa38d5"
      },
      "source": [
        "post.mcmc <- pnorm(post$yhat.test)\n",
        "z <- gewekediag(post.mcmc, frac1=0.4, frac2=0.5)$z\n",
        "\n",
        "z2<-rnorm(5000) #NROW(X[-index_train,])\n",
        "\n",
        "plot(density(z))\n",
        "lines(density(z2))\n",
        "ks.test(z, z2)"
      ],
      "execution_count": 0,
      "outputs": [
        {
          "output_type": "display_data",
          "data": {
            "text/plain": [
              "\n",
              "\tTwo-sample Kolmogorov-Smirnov test\n",
              "\n",
              "data:  z and z2\n",
              "D = 0,045345, p-value = 0,1067\n",
              "alternative hypothesis: two-sided\n"
            ]
          },
          "metadata": {
            "tags": []
          }
        },
        {
          "output_type": "display_data",
          "data": {
            "image/png": "[encoded data removed]",
            "text/plain": [
              "Plot with title “density.default(x = z)”"
            ]
          },
          "metadata": {
            "tags": []
          }
        }
      ]
    },
    {
      "cell_type": "code",
      "metadata": {
        "id": "pww58Ks3O5mH",
        "colab_type": "code",
        "colab": {},
        "outputId": "d419c06e-ab90-40a8-d3ec-2235c7739e39"
      },
      "source": [
        "post.mcmc <- pnorm(post$yhat.test)\n",
        "z <- gewekediag(post.mcmc, frac1=0.4, frac2=0.4)$z\n",
        "\n",
        "z2<-rnorm(5000) #NROW(X[-index_train,])\n",
        "\n",
        "plot(density(z))\n",
        "lines(density(z2))\n",
        "ks.test(z, z2)"
      ],
      "execution_count": 0,
      "outputs": [
        {
          "output_type": "display_data",
          "data": {
            "text/plain": [
              "\n",
              "\tTwo-sample Kolmogorov-Smirnov test\n",
              "\n",
              "data:  z and z2\n",
              "D = 0,04922, p-value = 0,06333\n",
              "alternative hypothesis: two-sided\n"
            ]
          },
          "metadata": {
            "tags": []
          }
        },
        {
          "output_type": "display_data",
          "data": {
            "image/png": "[encoded data removed]",
            "text/plain": [
              "Plot with title “density.default(x = z)”"
            ]
          },
          "metadata": {
            "tags": []
          }
        }
      ]
    },
    {
      "cell_type": "code",
      "metadata": {
        "id": "HV_Lrs5FO5mQ",
        "colab_type": "code",
        "colab": {},
        "outputId": "6464c0f3-ce4d-4e16-87fc-6e1b3c08d369"
      },
      "source": [
        "end.time <- Sys.time()\n",
        "time.taken <- end.time - start.time\n",
        "time.taken"
      ],
      "execution_count": 0,
      "outputs": [
        {
          "output_type": "display_data",
          "data": {
            "text/plain": [
              "Time difference of 3,216864 hours"
            ]
          },
          "metadata": {
            "tags": []
          }
        }
      ]
    },
    {
      "cell_type": "code",
      "metadata": {
        "id": "8QfgV0qVO5mZ",
        "colab_type": "code",
        "colab": {},
        "outputId": "a9caea09-19a7-4196-df51-b7b790c3eb78"
      },
      "source": [
        "acf(post$yhat.test[,24],lag.max=100)"
      ],
      "execution_count": 0,
      "outputs": [
        {
          "output_type": "display_data",
          "data": {
            "image/png": "[encoded data removed]",
            "text/plain": [
              "Plot with title “Series  post$yhat.test[, 24]”"
            ]
          },
          "metadata": {
            "tags": []
          }
        }
      ]
    },
    {
      "cell_type": "code",
      "metadata": {
        "id": "siuPWKlOO5mg",
        "colab_type": "code",
        "colab": {},
        "outputId": "fb0b7ed5-c02b-4828-e6af-b4d30265ccf6"
      },
      "source": [
        "var_select<-apply((post$varcount>0), 2, mean)\n",
        "var_select"
      ],
      "execution_count": 0,
      "outputs": [
        {
          "output_type": "display_data",
          "data": {
            "text/html": [
              "<dl class=dl-horizontal>\n",
              "\t<dt>O_p_12</dt>\n",
              "\t\t<dd>0,315</dd>\n",
              "\t<dt>C_p_12</dt>\n",
              "\t\t<dd>1</dd>\n",
              "\t<dt>E_p_12</dt>\n",
              "\t\t<dd>0,216</dd>\n",
              "\t<dt>A_p_12</dt>\n",
              "\t\t<dd>0,111</dd>\n",
              "\t<dt>N_p_12</dt>\n",
              "\t\t<dd>0,243</dd>\n",
              "\t<dt>serie_12</dt>\n",
              "\t\t<dd>1</dd>\n",
              "\t<dt>escola_12.ALFEU RODRIGUES SANTINHO EMEF MANNA ENSINO</dt>\n",
              "\t\t<dd>0,293</dd>\n",
              "\t<dt>escola_12.ANGELO COLAFEMINA EMEF</dt>\n",
              "\t\t<dd>0,082</dd>\n",
              "\t<dt>escola_12.ANITA BARTOLETTE RODRIGUES EMEF</dt>\n",
              "\t\t<dd>0,252</dd>\n",
              "\t<dt>escola_12.ANNA PASSAMONTI BALARDIN</dt>\n",
              "\t\t<dd>0,374</dd>\n",
              "\t<dt>escola_12.ANTONIO FURLAN JUNIOR DOUTOR</dt>\n",
              "\t\t<dd>0,086</dd>\n",
              "\t<dt>escola_12.CAMINHO SUAVE ESCOLA GA</dt>\n",
              "\t\t<dd>0</dd>\n",
              "\t<dt>escola_12.COLEGIO ARTE LIVRE</dt>\n",
              "\t\t<dd>0,28</dd>\n",
              "\t<dt>escola_12.DOUTOR SILVIO SARTI EMEF</dt>\n",
              "\t\t<dd>0,186</dd>\n",
              "\t<dt>escola_12.EDITH SILVEIRA DALMASO PROFESSORA</dt>\n",
              "\t\t<dd>0,484</dd>\n",
              "\t<dt>escola_12.EDUCAR COLEGIO</dt>\n",
              "\t\t<dd>0,277</dd>\n",
              "\t<dt>escola_12.ELYDIA CARNEIRO DA ROCHA EMEF</dt>\n",
              "\t\t<dd>0,365</dd>\n",
              "\t<dt>escola_12.FERRUCIO CHIARATTI</dt>\n",
              "\t\t<dd>0,165</dd>\n",
              "\t<dt>escola_12.ISAIAS JOSE FERREIRA DOUTOR</dt>\n",
              "\t\t<dd>0,187</dd>\n",
              "\t<dt>escola_12.MARIA APARECIDA O BELLINI EMEF</dt>\n",
              "\t\t<dd>0,197</dd>\n",
              "\t<dt>escola_12.MARIA CONCEICAO R S MAGON PROFA</dt>\n",
              "\t\t<dd>0,173</dd>\n",
              "\t<dt>escola_12.MARIA NELI M TONIELO PREF EMEIF</dt>\n",
              "\t\t<dd>0,261</dd>\n",
              "\t<dt>escola_12.MARILENA ARANTES MENEGHINI EMEF</dt>\n",
              "\t\t<dd>0,432</dd>\n",
              "\t<dt>escola_12.NICIA FABIOLA Z GIRALDI PROFA</dt>\n",
              "\t\t<dd>0,215</dd>\n",
              "\t<dt>escola_12.PROF ANTONIO CRISTINO CABRAL EMEF</dt>\n",
              "\t\t<dd>1</dd>\n",
              "\t<dt>escola_12.PROF RAUL DO PRADO VIANNA EMEF</dt>\n",
              "\t\t<dd>0,36</dd>\n",
              "\t<dt>escola_12.PROFA ELVIRA ARRUDA DE SOUZA EMEF</dt>\n",
              "\t\t<dd>0,289</dd>\n",
              "\t<dt>escola_12.PROFA JOANNINHA GILBERTI EMEF</dt>\n",
              "\t\t<dd>0,28</dd>\n",
              "\t<dt>escola_12.PROFA NAIR TEIXEIRA ORTOLAN EMEF</dt>\n",
              "\t\t<dd>0,329</dd>\n",
              "\t<dt>escola_12.PROFESSOR ANACLETO CRUZ EMEF</dt>\n",
              "\t\t<dd>0,275</dd>\n",
              "\t<dt>escola_12.PROFESSOR JOSE NEGRI EMEF</dt>\n",
              "\t\t<dd>1</dd>\n",
              "\t<dt>escola_12.RENASCER CENTRO EDUCACIONAL</dt>\n",
              "\t\t<dd>0,42</dd>\n",
              "\t<dt>escola_12.ROBERTO ZANUTTO DESIDERIO EMEF</dt>\n",
              "\t\t<dd>0,24</dd>\n",
              "\t<dt>escola_12.SESI 241</dt>\n",
              "\t\t<dd>0,579</dd>\n",
              "\t<dt>escola_12.TECNO SERT COLEGIO</dt>\n",
              "\t\t<dd>0,172</dd>\n",
              "\t<dt>escola_12.WALDOMIRO GOMES EMEF</dt>\n",
              "\t\t<dd>0,249</dd>\n",
              "\t<dt>escola_12.WINSTON CHURCHILL</dt>\n",
              "\t\t<dd>0,419</dd>\n",
              "\t<dt>mat_12</dt>\n",
              "\t\t<dd>0,877</dd>\n",
              "\t<dt>port_12</dt>\n",
              "\t\t<dd>0,538</dd>\n",
              "\t<dt>educmae1_12</dt>\n",
              "\t\t<dd>0,31</dd>\n",
              "\t<dt>educmae2_12</dt>\n",
              "\t\t<dd>0,345</dd>\n",
              "\t<dt>educmae3_12</dt>\n",
              "\t\t<dd>0,366</dd>\n",
              "\t<dt>educmae4_12</dt>\n",
              "\t\t<dd>0,542</dd>\n",
              "\t<dt>educmae5_12</dt>\n",
              "\t\t<dd>0,564</dd>\n",
              "\t<dt>educmae6_12</dt>\n",
              "\t\t<dd>0,342</dd>\n",
              "\t<dt>genero</dt>\n",
              "\t\t<dd>1</dd>\n",
              "\t<dt>brancos</dt>\n",
              "\t\t<dd>0,298</dd>\n",
              "\t<dt>reprov_antes_12</dt>\n",
              "\t\t<dd>1</dd>\n",
              "</dl>\n"
            ],
            "text/latex": "\\begin{description*}\n\\item[O\\textbackslash{}\\_p\\textbackslash{}\\_12] 0,315\n\\item[C\\textbackslash{}\\_p\\textbackslash{}\\_12] 1\n\\item[E\\textbackslash{}\\_p\\textbackslash{}\\_12] 0,216\n\\item[A\\textbackslash{}\\_p\\textbackslash{}\\_12] 0,111\n\\item[N\\textbackslash{}\\_p\\textbackslash{}\\_12] 0,243\n\\item[serie\\textbackslash{}\\_12] 1\n\\item[escola\\textbackslash{}\\_12.ALFEU RODRIGUES SANTINHO EMEF MANNA ENSINO] 0,293\n\\item[escola\\textbackslash{}\\_12.ANGELO COLAFEMINA EMEF] 0,082\n\\item[escola\\textbackslash{}\\_12.ANITA BARTOLETTE RODRIGUES EMEF] 0,252\n\\item[escola\\textbackslash{}\\_12.ANNA PASSAMONTI BALARDIN] 0,374\n\\item[escola\\textbackslash{}\\_12.ANTONIO FURLAN JUNIOR DOUTOR] 0,086\n\\item[escola\\textbackslash{}\\_12.CAMINHO SUAVE ESCOLA GA] 0\n\\item[escola\\textbackslash{}\\_12.COLEGIO ARTE LIVRE] 0,28\n\\item[escola\\textbackslash{}\\_12.DOUTOR SILVIO SARTI EMEF] 0,186\n\\item[escola\\textbackslash{}\\_12.EDITH SILVEIRA DALMASO PROFESSORA] 0,484\n\\item[escola\\textbackslash{}\\_12.EDUCAR COLEGIO] 0,277\n\\item[escola\\textbackslash{}\\_12.ELYDIA CARNEIRO DA ROCHA EMEF] 0,365\n\\item[escola\\textbackslash{}\\_12.FERRUCIO CHIARATTI] 0,165\n\\item[escola\\textbackslash{}\\_12.ISAIAS JOSE FERREIRA DOUTOR] 0,187\n\\item[escola\\textbackslash{}\\_12.MARIA APARECIDA O BELLINI EMEF] 0,197\n\\item[escola\\textbackslash{}\\_12.MARIA CONCEICAO R S MAGON PROFA] 0,173\n\\item[escola\\textbackslash{}\\_12.MARIA NELI M TONIELO PREF EMEIF] 0,261\n\\item[escola\\textbackslash{}\\_12.MARILENA ARANTES MENEGHINI EMEF] 0,432\n\\item[escola\\textbackslash{}\\_12.NICIA FABIOLA Z GIRALDI PROFA] 0,215\n\\item[escola\\textbackslash{}\\_12.PROF ANTONIO CRISTINO CABRAL EMEF] 1\n\\item[escola\\textbackslash{}\\_12.PROF RAUL DO PRADO VIANNA EMEF] 0,36\n\\item[escola\\textbackslash{}\\_12.PROFA ELVIRA ARRUDA DE SOUZA EMEF] 0,289\n\\item[escola\\textbackslash{}\\_12.PROFA JOANNINHA GILBERTI EMEF] 0,28\n\\item[escola\\textbackslash{}\\_12.PROFA NAIR TEIXEIRA ORTOLAN EMEF] 0,329\n\\item[escola\\textbackslash{}\\_12.PROFESSOR ANACLETO CRUZ EMEF] 0,275\n\\item[escola\\textbackslash{}\\_12.PROFESSOR JOSE NEGRI EMEF] 1\n\\item[escola\\textbackslash{}\\_12.RENASCER CENTRO EDUCACIONAL] 0,42\n\\item[escola\\textbackslash{}\\_12.ROBERTO ZANUTTO DESIDERIO EMEF] 0,24\n\\item[escola\\textbackslash{}\\_12.SESI 241] 0,579\n\\item[escola\\textbackslash{}\\_12.TECNO SERT COLEGIO] 0,172\n\\item[escola\\textbackslash{}\\_12.WALDOMIRO GOMES EMEF] 0,249\n\\item[escola\\textbackslash{}\\_12.WINSTON CHURCHILL] 0,419\n\\item[mat\\textbackslash{}\\_12] 0,877\n\\item[port\\textbackslash{}\\_12] 0,538\n\\item[educmae1\\textbackslash{}\\_12] 0,31\n\\item[educmae2\\textbackslash{}\\_12] 0,345\n\\item[educmae3\\textbackslash{}\\_12] 0,366\n\\item[educmae4\\textbackslash{}\\_12] 0,542\n\\item[educmae5\\textbackslash{}\\_12] 0,564\n\\item[educmae6\\textbackslash{}\\_12] 0,342\n\\item[genero] 1\n\\item[brancos] 0,298\n\\item[reprov\\textbackslash{}\\_antes\\textbackslash{}\\_12] 1\n\\end{description*}\n",
            "text/markdown": "O_p_12\n:   0,315C_p_12\n:   1E_p_12\n:   0,216A_p_12\n:   0,111N_p_12\n:   0,243serie_12\n:   1escola_12.ALFEU RODRIGUES SANTINHO EMEF MANNA ENSINO\n:   0,293escola_12.ANGELO COLAFEMINA EMEF\n:   0,082escola_12.ANITA BARTOLETTE RODRIGUES EMEF\n:   0,252escola_12.ANNA PASSAMONTI BALARDIN\n:   0,374escola_12.ANTONIO FURLAN JUNIOR DOUTOR\n:   0,086escola_12.CAMINHO SUAVE ESCOLA GA\n:   0escola_12.COLEGIO ARTE LIVRE\n:   0,28escola_12.DOUTOR SILVIO SARTI EMEF\n:   0,186escola_12.EDITH SILVEIRA DALMASO PROFESSORA\n:   0,484escola_12.EDUCAR COLEGIO\n:   0,277escola_12.ELYDIA CARNEIRO DA ROCHA EMEF\n:   0,365escola_12.FERRUCIO CHIARATTI\n:   0,165escola_12.ISAIAS JOSE FERREIRA DOUTOR\n:   0,187escola_12.MARIA APARECIDA O BELLINI EMEF\n:   0,197escola_12.MARIA CONCEICAO R S MAGON PROFA\n:   0,173escola_12.MARIA NELI M TONIELO PREF EMEIF\n:   0,261escola_12.MARILENA ARANTES MENEGHINI EMEF\n:   0,432escola_12.NICIA FABIOLA Z GIRALDI PROFA\n:   0,215escola_12.PROF ANTONIO CRISTINO CABRAL EMEF\n:   1escola_12.PROF RAUL DO PRADO VIANNA EMEF\n:   0,36escola_12.PROFA ELVIRA ARRUDA DE SOUZA EMEF\n:   0,289escola_12.PROFA JOANNINHA GILBERTI EMEF\n:   0,28escola_12.PROFA NAIR TEIXEIRA ORTOLAN EMEF\n:   0,329escola_12.PROFESSOR ANACLETO CRUZ EMEF\n:   0,275escola_12.PROFESSOR JOSE NEGRI EMEF\n:   1escola_12.RENASCER CENTRO EDUCACIONAL\n:   0,42escola_12.ROBERTO ZANUTTO DESIDERIO EMEF\n:   0,24escola_12.SESI 241\n:   0,579escola_12.TECNO SERT COLEGIO\n:   0,172escola_12.WALDOMIRO GOMES EMEF\n:   0,249escola_12.WINSTON CHURCHILL\n:   0,419mat_12\n:   0,877port_12\n:   0,538educmae1_12\n:   0,31educmae2_12\n:   0,345educmae3_12\n:   0,366educmae4_12\n:   0,542educmae5_12\n:   0,564educmae6_12\n:   0,342genero\n:   1brancos\n:   0,298reprov_antes_12\n:   1\n\n",
            "text/plain": [
              "                                              O_p_12 \n",
              "                                               0,315 \n",
              "                                              C_p_12 \n",
              "                                               1,000 \n",
              "                                              E_p_12 \n",
              "                                               0,216 \n",
              "                                              A_p_12 \n",
              "                                               0,111 \n",
              "                                              N_p_12 \n",
              "                                               0,243 \n",
              "                                            serie_12 \n",
              "                                               1,000 \n",
              "escola_12.ALFEU RODRIGUES SANTINHO EMEF MANNA ENSINO \n",
              "                                               0,293 \n",
              "                    escola_12.ANGELO COLAFEMINA EMEF \n",
              "                                               0,082 \n",
              "           escola_12.ANITA BARTOLETTE RODRIGUES EMEF \n",
              "                                               0,252 \n",
              "                  escola_12.ANNA PASSAMONTI BALARDIN \n",
              "                                               0,374 \n",
              "              escola_12.ANTONIO FURLAN JUNIOR DOUTOR \n",
              "                                               0,086 \n",
              "                   escola_12.CAMINHO SUAVE ESCOLA GA \n",
              "                                               0,000 \n",
              "                        escola_12.COLEGIO ARTE LIVRE \n",
              "                                               0,280 \n",
              "                  escola_12.DOUTOR SILVIO SARTI EMEF \n",
              "                                               0,186 \n",
              "         escola_12.EDITH SILVEIRA DALMASO PROFESSORA \n",
              "                                               0,484 \n",
              "                            escola_12.EDUCAR COLEGIO \n",
              "                                               0,277 \n",
              "             escola_12.ELYDIA CARNEIRO DA ROCHA EMEF \n",
              "                                               0,365 \n",
              "                        escola_12.FERRUCIO CHIARATTI \n",
              "                                               0,165 \n",
              "               escola_12.ISAIAS JOSE FERREIRA DOUTOR \n",
              "                                               0,187 \n",
              "            escola_12.MARIA APARECIDA O BELLINI EMEF \n",
              "                                               0,197 \n",
              "           escola_12.MARIA CONCEICAO R S MAGON PROFA \n",
              "                                               0,173 \n",
              "           escola_12.MARIA NELI M TONIELO PREF EMEIF \n",
              "                                               0,261 \n",
              "           escola_12.MARILENA ARANTES MENEGHINI EMEF \n",
              "                                               0,432 \n",
              "             escola_12.NICIA FABIOLA Z GIRALDI PROFA \n",
              "                                               0,215 \n",
              "         escola_12.PROF ANTONIO CRISTINO CABRAL EMEF \n",
              "                                               1,000 \n",
              "            escola_12.PROF RAUL DO PRADO VIANNA EMEF \n",
              "                                               0,360 \n",
              "         escola_12.PROFA ELVIRA ARRUDA DE SOUZA EMEF \n",
              "                                               0,289 \n",
              "             escola_12.PROFA JOANNINHA GILBERTI EMEF \n",
              "                                               0,280 \n",
              "          escola_12.PROFA NAIR TEIXEIRA ORTOLAN EMEF \n",
              "                                               0,329 \n",
              "              escola_12.PROFESSOR ANACLETO CRUZ EMEF \n",
              "                                               0,275 \n",
              "                 escola_12.PROFESSOR JOSE NEGRI EMEF \n",
              "                                               1,000 \n",
              "               escola_12.RENASCER CENTRO EDUCACIONAL \n",
              "                                               0,420 \n",
              "            escola_12.ROBERTO ZANUTTO DESIDERIO EMEF \n",
              "                                               0,240 \n",
              "                                  escola_12.SESI 241 \n",
              "                                               0,579 \n",
              "                        escola_12.TECNO SERT COLEGIO \n",
              "                                               0,172 \n",
              "                      escola_12.WALDOMIRO GOMES EMEF \n",
              "                                               0,249 \n",
              "                         escola_12.WINSTON CHURCHILL \n",
              "                                               0,419 \n",
              "                                              mat_12 \n",
              "                                               0,877 \n",
              "                                             port_12 \n",
              "                                               0,538 \n",
              "                                         educmae1_12 \n",
              "                                               0,310 \n",
              "                                         educmae2_12 \n",
              "                                               0,345 \n",
              "                                         educmae3_12 \n",
              "                                               0,366 \n",
              "                                         educmae4_12 \n",
              "                                               0,542 \n",
              "                                         educmae5_12 \n",
              "                                               0,564 \n",
              "                                         educmae6_12 \n",
              "                                               0,342 \n",
              "                                              genero \n",
              "                                               1,000 \n",
              "                                             brancos \n",
              "                                               0,298 \n",
              "                                     reprov_antes_12 \n",
              "                                               1,000 "
            ]
          },
          "metadata": {
            "tags": []
          }
        }
      ]
    },
    {
      "cell_type": "code",
      "metadata": {
        "scrolled": true,
        "id": "Z8sLRKX9O5mr",
        "colab_type": "code",
        "colab": {},
        "outputId": "5d1ad38f-db17-4e53-e22b-6a44d358c7b8"
      },
      "source": [
        "boxplot(var_select)"
      ],
      "execution_count": 0,
      "outputs": [
        {
          "output_type": "display_data",
          "data": {
            "image/png": "[encoded data removed]",
            "text/plain": [
              "plot without title"
            ]
          },
          "metadata": {
            "tags": []
          }
        }
      ]
    },
    {
      "cell_type": "code",
      "metadata": {
        "id": "mXlZ8phBO5m7",
        "colab_type": "code",
        "colab": {}
      },
      "source": [
        ""
      ],
      "execution_count": 0,
      "outputs": []
    },
    {
      "cell_type": "code",
      "metadata": {
        "id": "jV1UAb0_O5nI",
        "colab_type": "code",
        "colab": {}
      },
      "source": [
        "pred_fun<-function(model,newdata){\n",
        "  pred=predict(model,newdata)\n",
        "  return(apply(pnorm(pred$yhat.test), 2, mean))\n",
        "}"
      ],
      "execution_count": 0,
      "outputs": []
    },
    {
      "cell_type": "code",
      "metadata": {
        "id": "chG8BKgyO5nR",
        "colab_type": "code",
        "colab": {}
      },
      "source": [
        "plots<-list()\n",
        "\n",
        "for (sem in c('O','C','E','A','N')){\n",
        "  var=paste(sem,'_p_12' ,sep='')\n",
        "  predictor = Predictor$new(post, data = X, predict.fun=pred_fun) #\n",
        "  eff = FeatureEffect$new(predictor, var, method = \"pdp+ice\", grid.size = 20, center.at =-2) #min(data[,var]) pdp+ice\n",
        "  #eff$results=eff$results[eff$results[,2]==\"X1\",]\n",
        "  plots[[sem]]<-eff$plot()+xlim(-2,2) + ylim(-.05,.05)\n",
        "}"
      ],
      "execution_count": 0,
      "outputs": []
    },
    {
      "cell_type": "code",
      "metadata": {
        "id": "rsYdYVLYO5nc",
        "colab_type": "code",
        "colab": {}
      },
      "source": [
        "gridExtra::grid.arrange(plots[[\"O\"]], plots[[\"C\"]], plots[[\"E\"]], plots[[\"A\"]],plots[[\"N\"]], nrow = 2)"
      ],
      "execution_count": 0,
      "outputs": []
    },
    {
      "cell_type": "code",
      "metadata": {
        "id": "5nFgpilpO5nh",
        "colab_type": "code",
        "colab": {}
      },
      "source": [
        ""
      ],
      "execution_count": 0,
      "outputs": []
    },
    {
      "cell_type": "code",
      "metadata": {
        "id": "97HvdXHgO5ns",
        "colab_type": "code",
        "colab": {}
      },
      "source": [
        ""
      ],
      "execution_count": 0,
      "outputs": []
    }
  ]
}